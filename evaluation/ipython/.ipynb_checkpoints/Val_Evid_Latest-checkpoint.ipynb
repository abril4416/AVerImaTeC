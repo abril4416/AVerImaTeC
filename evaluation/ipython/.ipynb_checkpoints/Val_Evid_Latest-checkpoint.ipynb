{
 "cells": [
  {
   "cell_type": "code",
   "execution_count": 2,
   "id": "cd7db1ca-3311-4dd1-bc0e-567bde463d1d",
   "metadata": {},
   "outputs": [],
   "source": [
    "import requests\n",
    "from PIL import Image\n",
    "from matplotlib import pyplot as plt\n",
    "import numpy as np"
   ]
  },
  {
   "cell_type": "code",
   "execution_count": 3,
   "id": "05524093-995d-48b7-96f0-5c9d5f3a5702",
   "metadata": {},
   "outputs": [],
   "source": [
    "import json\n",
    "import pickle as pkl\n",
    "from scipy import stats\n",
    "def load_pkl(path):\n",
    "    data=pkl.load(open(path,'rb'))\n",
    "    return data\n",
    "\n",
    "def load_json(path):\n",
    "    data=json.load(open(path,'r'))\n",
    "    return data\n",
    "\n",
    "import pandas as pd\n",
    "from collections import defaultdict"
   ]
  },
  {
   "cell_type": "code",
   "execution_count": 4,
   "id": "a88a7082-534f-4d1f-b4e2-47ba8baf118a",
   "metadata": {},
   "outputs": [],
   "source": [
    "import os\n",
    "import random"
   ]
  },
  {
   "cell_type": "code",
   "execution_count": 5,
   "id": "a6ffe8bb-f8f3-4377-a846-5800eea0e924",
   "metadata": {},
   "outputs": [],
   "source": [
    "from rouge_score import rouge_scorer\n",
    "scorer = rouge_scorer.RougeScorer(['rouge1', 'rouge2', 'rougeL'], use_stemmer=True)"
   ]
  },
  {
   "cell_type": "code",
   "execution_count": 6,
   "id": "19d730e9-db7f-4e1a-b166-f9a744924176",
   "metadata": {},
   "outputs": [],
   "source": [
    "import nltk\n",
    "from nltk import word_tokenize\n",
    "def pairwise_meteor(candidate, reference): # Todo this is not thread safe, no idea how to make it so\n",
    "    return nltk.translate.meteor_score.single_meteor_score(word_tokenize(reference), word_tokenize(candidate))"
   ]
  },
  {
   "cell_type": "code",
   "execution_count": 7,
   "id": "faaa5dbf-cf02-4cec-bc6e-8d4f1339ff52",
   "metadata": {},
   "outputs": [],
   "source": [
    "path=os.path.abspath('../..')\n",
    "p2_data=load_json(os.path.join(path,'data/data_clean/split_data/test.json'))\n",
    "test_id_to_row={}\n",
    "for i,row in enumerate(p2_data):\n",
    "    test_id_to_row[i]=row"
   ]
  },
  {
   "cell_type": "code",
   "execution_count": 8,
   "id": "e2e0c3a5-af80-4850-9afb-e6023f220a0d",
   "metadata": {},
   "outputs": [],
   "source": [
    "def compute_scores_detail(score,len_gt_evid,len_val_evid):\n",
    "    if len_val_evid==0 or len_gt_evid==0:\n",
    "        return None, None, None\n",
    "    #print (score[\"pred_in_ref\"])\n",
    "    precision=score[\"pred_in_ref\"]/len_val_evid\n",
    "    recall=score[\"ref_in_pred\"]/len_gt_evid\n",
    "    if precision<0:\n",
    "        precision=0\n",
    "    if recall<0:\n",
    "        recall=0\n",
    "    if recall>1.:\n",
    "        recall=1.\n",
    "    if precision>1.:\n",
    "        precision=1.\n",
    "    if precision==0 and recall==0:\n",
    "        f1=0.\n",
    "    else:\n",
    "        f1=2*(precision*recall)/(precision+recall)\n",
    "    return precision, recall, f1\n",
    "\n",
    "def get_auto_recall(scores,req_id):\n",
    "    result=scores[req_id]\n",
    "    ref_evid=result['ref_evid']\n",
    "    pred_evid=result['pred_evid']\n",
    "    #print (result)\n",
    "    pred_in_ref=result['image_scores']['pred_in_ref']\n",
    "    ref_in_pred=result['image_scores']['ref_in_pred']\n",
    "    #print (pred_in_ref)\n",
    "    pred_dict=defaultdict(int)\n",
    "    len_pred=len(pred_evid)\n",
    "    #print (ref_in_pred)\n",
    "    num_pred_in_ref=0\n",
    "    for i,info in enumerate(pred_in_ref):\n",
    "        #print (info)\n",
    "        try:\n",
    "            pred_idx=int(info['info'][0].split('_')[-1])\n",
    "            ref_idx=int(info['info'][1].split('_')[-1])\n",
    "        except:\n",
    "            continue\n",
    "        if pred_idx in pred_dict:\n",
    "            continue\n",
    "        pred_dict[pred_idx]+=1\n",
    "        try:\n",
    "            if int(info['score'])<threshold:\n",
    "                continue\n",
    "            else:\n",
    "                num_pred_in_ref+=1\n",
    "        except:\n",
    "            continue\n",
    "    ref_dict=defaultdict(int)\n",
    "    num_ref_in_pred=0\n",
    "    for i,info in enumerate(ref_in_pred):\n",
    "        #print (info)\n",
    "        try:\n",
    "            pred_idx=int(info['info'][1].split('_')[-1])\n",
    "            ref_idx=int(info['info'][0].split('_')[-1])\n",
    "        except:\n",
    "            continue\n",
    "        if ref_idx in ref_dict:\n",
    "            continue\n",
    "        ref_dict[ref_idx]+=1\n",
    "        #print (ref_dict)\n",
    "        try:\n",
    "            if int(info['score'])<threshold:\n",
    "                continue\n",
    "            else:\n",
    "                num_ref_in_pred+=1\n",
    "        except:\n",
    "            continue\n",
    "    \"\"\"\n",
    "    print (result['detailed_val'])\n",
    "    print (len(pred_evid),len(ref_evid))\n",
    "    print ('\\t',pred_in_ref)\n",
    "    print ('\\t',ref_in_pred)\n",
    "    print ('\\t',num_pred_in_ref,num_ref_in_pred)\n",
    "    \"\"\"\n",
    "    precision, recall, f1=compute_scores_detail({'ref_in_pred':num_ref_in_pred,'pred_in_ref':num_pred_in_ref},len(ref_evid),len_pred)\n",
    "    return precision, recall, f1"
   ]
  },
  {
   "cell_type": "code",
   "execution_count": 26,
   "id": "7a405152-7d49-4339-adfe-b7e94bfb9b2b",
   "metadata": {},
   "outputs": [
    {
     "name": "stdout",
     "output_type": "stream",
     "text": [
      "352\n"
     ]
    }
   ],
   "source": [
    "llm_name='llama'\n",
    "mllm_name='llava'\n",
    "\n",
    "llm_name='qwen'\n",
    "mllm_name='qwen'\n",
    "\n",
    "#llm_name='qwen'\n",
    "#mllm_name='llava'\n",
    "\n",
    "#llm_name='gemma'\n",
    "#mllm_name='gemma'\n",
    "\n",
    "llm_name=\"gemini-2.0-flash-001\"\n",
    "mllm_name=\"gemini-2.0-flash-001\"\n",
    "\n",
    "#llm_name=\"o3-2025-04-16\"\n",
    "#mllm_name=\"o3-2025-04-16\"\n",
    "save_num='17'\n",
    "threshold=9\n",
    "\n",
    "pred_file=load_pkl(os.path.join(path,'fc_detailed_results','_'.join([llm_name,mllm_name]),save_num+'.pkl'))\n",
    "print (len(pred_file))"
   ]
  },
  {
   "cell_type": "code",
   "execution_count": 16,
   "id": "7a36ceab-84f7-4c93-a733-03d82093b07e",
   "metadata": {},
   "outputs": [
    {
     "name": "stdout",
     "output_type": "stream",
     "text": [
      "4.985795454545454\n"
     ]
    }
   ],
   "source": [
    "avg=0\n",
    "for req_id in pred_file:\n",
    "    pred_questions=pred_file[req_id]['QA_info']\n",
    "    avg+=len(pred_questions)\n",
    "print (avg*1./len(pred_file))"
   ]
  },
  {
   "cell_type": "code",
   "execution_count": 17,
   "id": "fa7f841c-b77d-41ed-aaf6-5d174ab08f00",
   "metadata": {},
   "outputs": [
    {
     "name": "stdout",
     "output_type": "stream",
     "text": [
      "352\n"
     ]
    }
   ],
   "source": [
    "scores=load_pkl(os.path.join(path,\n",
    "                    \"evaluation\",\n",
    "                    'intermediate_info/'+'_'.join([llm_name,mllm_name])+'_val_evid_'+str(save_num)+'_raw.pkl'))\n",
    "print (len(scores))"
   ]
  },
  {
   "cell_type": "code",
   "execution_count": 27,
   "id": "3f9fded8-251b-413f-96fa-4ff63a98746f",
   "metadata": {},
   "outputs": [],
   "source": [
    "justifications=load_pkl(os.path.join(path,'fc_detailed_results','_'.join([llm_name,mllm_name]),save_num+'_justification.pkl'))"
   ]
  },
  {
   "cell_type": "code",
   "execution_count": 18,
   "id": "eaf19382-0ed2-4549-8fd4-a85d8ce34447",
   "metadata": {},
   "outputs": [
    {
     "name": "stdout",
     "output_type": "stream",
     "text": [
      "351 0.0\n",
      "Prec: 8.83190883190882\n",
      "Rec: 16.88486410708634\n",
      "9.550178924855349\n"
     ]
    }
   ],
   "source": [
    "prec=0.\n",
    "rec=0.\n",
    "f1s=0.\n",
    "valid=0\n",
    "gen_questions=0\n",
    "para_ques=(save_num in ['4','5','14','13','11'])\n",
    "for req_id in scores:\n",
    "    precision, recall, f1=get_auto_recall(scores,req_id)\n",
    "    #print (recall)\n",
    "    if precision is None  or recall is None:\n",
    "        continue\n",
    "    valid+=1\n",
    "\n",
    "    prec+=precision\n",
    "    rec+=recall\n",
    "    f1s+=f1\n",
    "print (valid,gen_questions/valid)\n",
    "print ('Prec:',prec*100./valid)\n",
    "print ('Rec:',rec*100./valid)\n",
    "print (f1s*100./valid)"
   ]
  },
  {
   "cell_type": "code",
   "execution_count": null,
   "id": "c3d8c8ac-a68d-431c-99fb-0ff078f268a1",
   "metadata": {},
   "outputs": [],
   "source": [
    "acc=0.\n",
    "valid=0\n",
    "meteor=0.\n",
    "tr=0.4\n",
    "for req_id in scores:\n",
    "    precision, recall, f1=get_auto_recall(scores,req_id)\n",
    "\n",
    "    if precision is None  or recall is None:\n",
    "        continue\n",
    "    valid+=1\n",
    "    gt_label=test_id_to_row[req_id]['label']\n",
    "    pred_label=pred_file[req_id]['verdict']\n",
    "    #pred_just=' '.join(pred_file[req_id]['justification'].split('\\n'))\n",
    "    pred_just=justifications[req_id]\n",
    "    #pred_just=pred_file[req_id]['justification']\n",
    "    gt_just=test_id_to_row[req_id]['justification']\n",
    "    print ('[PRED]:',pred_just)\n",
    "    print ('[REF]:',gt_just)\n",
    "    if gt_label==pred_label and recall>tr:\n",
    "        acc+=1\n",
    "    if recall>tr:\n",
    "        #mt=pairwise_meteor(pred_just, gt_just)\n",
    "        mt= scorer.score(gt_just, pred_just)['rouge1'].recall\n",
    "        #print (pred_just)\n",
    "        meteor+=mt\n",
    "        #print (mt)\n",
    "print (valid)\n",
    "print (acc/valid)\n",
    "print (meteor/valid)"
   ]
  },
  {
   "cell_type": "code",
   "execution_count": null,
   "id": "445398d1-c685-42db-89d4-5739cd3a6929",
   "metadata": {},
   "outputs": [],
   "source": []
  },
  {
   "cell_type": "code",
   "execution_count": null,
   "id": "d344cc82-a9a5-45fd-8a15-416688f18284",
   "metadata": {},
   "outputs": [],
   "source": []
  },
  {
   "cell_type": "code",
   "execution_count": null,
   "id": "78724755-fd1a-49e0-9297-31337376daa0",
   "metadata": {},
   "outputs": [],
   "source": []
  },
  {
   "cell_type": "code",
   "execution_count": null,
   "id": "858b8689-048c-41e4-8067-41a30c859377",
   "metadata": {},
   "outputs": [],
   "source": []
  }
 ],
 "metadata": {
  "kernelspec": {
   "display_name": "Python 3 (ipykernel)",
   "language": "python",
   "name": "python3"
  },
  "language_info": {
   "codemirror_mode": {
    "name": "ipython",
    "version": 3
   },
   "file_extension": ".py",
   "mimetype": "text/x-python",
   "name": "python",
   "nbconvert_exporter": "python",
   "pygments_lexer": "ipython3",
   "version": "3.9.17"
  }
 },
 "nbformat": 4,
 "nbformat_minor": 5
}
